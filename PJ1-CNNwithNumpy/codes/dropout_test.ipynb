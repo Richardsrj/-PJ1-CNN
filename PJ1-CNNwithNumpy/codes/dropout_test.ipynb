{
 "cells": [
  {
   "cell_type": "code",
   "id": "initial_id",
   "metadata": {
    "collapsed": true,
    "ExecuteTime": {
     "end_time": "2025-04-10T09:56:49.691968Z",
     "start_time": "2025-04-10T09:56:49.603717Z"
    }
   },
   "source": "import numpy as np",
   "outputs": [],
   "execution_count": 2
  },
  {
   "metadata": {
    "ExecuteTime": {
     "end_time": "2025-04-10T09:56:50.289838Z",
     "start_time": "2025-04-10T09:56:50.285637Z"
    }
   },
   "cell_type": "code",
   "source": "a=np.array([[1,2,3,4,5,6,7,8,9,10]])",
   "id": "318503837fd2fb0e",
   "outputs": [],
   "execution_count": 3
  },
  {
   "metadata": {},
   "cell_type": "code",
   "outputs": [],
   "execution_count": null,
   "source": [
    "class Dropout(Layer):\n",
    "    def __init__(self, p=0.5):\n",
    "        super().__init__()\n",
    "        self.p = p                  # 神经元保留概率\n",
    "        self.is_training = True     # 默认启用Dropout\n",
    "        self.mask = None            # 保存前向传播的掩码\n",
    "        self.optimizable=False\n",
    "\n",
    "    def __call__(self, X):\n",
    "        return self.forward(X)\n",
    "\n",
    "    def forward(self, X):\n",
    "        if self.is_training:\n",
    "            # 生成二进制掩码，元素为1的概率为p\n",
    "            self.mask = (np.random.rand(*X.shape) < self.p) / self.p\n",
    "            return X * self.mask\n",
    "        else:\n",
    "            # 推理模式直接返回输入\n",
    "            return X\n",
    "\n",
    "    def backward(self, dout):\n",
    "        if self.is_training:\n",
    "            # 反向传播时，梯度乘以掩码并缩放\n",
    "            return dout * self.mask\n",
    "        else:\n",
    "            return dout"
   ],
   "id": "8d382fc7e0665eb8"
  },
  {
   "metadata": {
    "ExecuteTime": {
     "end_time": "2025-04-10T09:57:18.854674Z",
     "start_time": "2025-04-10T09:57:18.851489Z"
    }
   },
   "cell_type": "code",
   "source": [
    "p=0.8\n",
    "\n",
    "mask = ((np.random.rand(*a.shape) < p) / p)"
   ],
   "id": "81c67153fb4a9b79",
   "outputs": [],
   "execution_count": 11
  },
  {
   "metadata": {
    "ExecuteTime": {
     "end_time": "2025-04-10T09:57:19.510987Z",
     "start_time": "2025-04-10T09:57:19.507971Z"
    }
   },
   "cell_type": "code",
   "source": "print(mask)",
   "id": "7e131ceb524d9003",
   "outputs": [
    {
     "name": "stdout",
     "output_type": "stream",
     "text": [
      "[[0. 0. 0. 5. 0. 0. 5. 0. 0. 0.]]\n"
     ]
    }
   ],
   "execution_count": 12
  },
  {
   "metadata": {
    "ExecuteTime": {
     "end_time": "2025-04-10T09:57:37.703950Z",
     "start_time": "2025-04-10T09:57:37.699767Z"
    }
   },
   "cell_type": "code",
   "source": "print(a*mask)",
   "id": "3bdb697ed66660cf",
   "outputs": [
    {
     "name": "stdout",
     "output_type": "stream",
     "text": [
      "[[ 0.  0.  0. 20.  0.  0. 35.  0.  0.  0.]]\n"
     ]
    }
   ],
   "execution_count": 13
  }
 ],
 "metadata": {
  "kernelspec": {
   "display_name": "Python 3",
   "language": "python",
   "name": "python3"
  },
  "language_info": {
   "codemirror_mode": {
    "name": "ipython",
    "version": 2
   },
   "file_extension": ".py",
   "mimetype": "text/x-python",
   "name": "python",
   "nbconvert_exporter": "python",
   "pygments_lexer": "ipython2",
   "version": "2.7.6"
  }
 },
 "nbformat": 4,
 "nbformat_minor": 5
}
