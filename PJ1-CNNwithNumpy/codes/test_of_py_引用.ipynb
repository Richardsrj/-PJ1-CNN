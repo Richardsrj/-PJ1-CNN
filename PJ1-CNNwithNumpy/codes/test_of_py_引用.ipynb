{
 "cells": [
  {
   "cell_type": "code",
   "id": "initial_id",
   "metadata": {
    "collapsed": true,
    "ExecuteTime": {
     "end_time": "2025-04-02T06:11:40.393831Z",
     "start_time": "2025-04-02T06:11:40.257306Z"
    }
   },
   "source": [
    "import numpy as np\n",
    "\n",
    "class Layer:\n",
    "    def __init__(self):\n",
    "        self.W = np.array([1.0, 2.0, 3.0])  # 权重参数\n",
    "        self.params = {'W': self.W}  # 字典保存参数的引用\n",
    "\n",
    "# 初始化层\n",
    "layer = Layer()\n",
    "print(\"初始权重:\", layer.W)          # 输出: [1. 2. 3.]\n",
    "print(\"字典中的W:\", layer.params['W'])  # 输出: [1. 2. 3.]\n",
    "\n",
    "# 尝试通过字典更新参数\n",
    "layer.params['W'] = layer.params['W'] - 0.1 * np.array([0.1, 0.2, 0.3])\n",
    "\n",
    "print(\"\\n更新后权重:\", layer.W)        # 输出: [1. 2. 3.] （未改变！）\n",
    "print(\"字典中的W:\", layer.params['W'])  # 输出: [0.99 1.98 2.97]"
   ],
   "outputs": [
    {
     "name": "stdout",
     "output_type": "stream",
     "text": [
      "初始权重: [1. 2. 3.]\n",
      "字典中的W: [1. 2. 3.]\n",
      "\n",
      "更新后权重: [1. 2. 3.]\n",
      "字典中的W: [0.99 1.98 2.97]\n"
     ]
    }
   ],
   "execution_count": 1
  }
 ],
 "metadata": {
  "kernelspec": {
   "display_name": "Python 3",
   "language": "python",
   "name": "python3"
  },
  "language_info": {
   "codemirror_mode": {
    "name": "ipython",
    "version": 2
   },
   "file_extension": ".py",
   "mimetype": "text/x-python",
   "name": "python",
   "nbconvert_exporter": "python",
   "pygments_lexer": "ipython2",
   "version": "2.7.6"
  }
 },
 "nbformat": 4,
 "nbformat_minor": 5
}
