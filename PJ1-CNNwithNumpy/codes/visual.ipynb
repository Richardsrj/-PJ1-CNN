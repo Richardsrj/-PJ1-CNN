{
 "cells": [
  {
   "cell_type": "code",
   "id": "initial_id",
   "metadata": {
    "collapsed": true,
    "ExecuteTime": {
     "end_time": "2025-04-19T06:58:20.999039Z",
     "start_time": "2025-04-19T06:58:20.990688Z"
    }
   },
   "source": [
    "import matplotlib.pyplot as plt\n",
    "import numpy as np\n",
    "import mynn as nn\n",
    "\n",
    "def visualize_conv_filters(model, save_path=None):\n",
    "    \"\"\"\n",
    "    可视化CNN模型中所有卷积层的权重\n",
    "    Args:\n",
    "        model: 加载的CNN模型\n",
    "        save_path: 可视化结果保存路径（可选）\n",
    "    \"\"\"\n",
    "   \n",
    "    conv_layers = []\n",
    "    for idx, layer in enumerate(model.layers):\n",
    "        if isinstance(layer, nn.op.conv2D):\n",
    "            conv_layers.append( (idx, layer) )\n",
    "    \n",
    "    if not conv_layers:\n",
    "        print(\"模型中未找到卷积层\")\n",
    "        return\n",
    "\n",
    "   \n",
    "    for layer_idx, layer in conv_layers:\n",
    "        filters = layer.W  \n",
    "        num_filters = filters.shape[0]\n",
    "        in_channels = filters.shape[1]\n",
    "        k = filters.shape[2]            # 卷积核尺寸\n",
    "        \n",
    "       \n",
    "        cols = 8 if num_filters >= 8 else num_filters\n",
    "        rows = int(np.ceil(num_filters / cols))\n",
    "        \n",
    "        \n",
    "        fig = plt.figure(figsize=(cols*1.5, rows*1.5))\n",
    "        plt.suptitle(f\"Conv Layer {layer_idx} Filters\\nShape: {filters.shape}\", y=1.02)\n",
    "        \n",
    "        \n",
    "        for i in range(num_filters):\n",
    "            ax = fig.add_subplot(rows, cols, i+1)\n",
    "            \n",
    "            \n",
    "            kernel = filters[i]\n",
    "            \n",
    "            \n",
    "            if in_channels == 1:\n",
    "                img = kernel[0]\n",
    "                cmap = 'gray'\n",
    "            else:\n",
    "                # 多通道\n",
    "                img = np.mean(kernel, axis=0)\n",
    "                cmap = 'viridis'\n",
    "            \n",
    "            ax.imshow(img, cmap=cmap)\n",
    "            ax.axis('off')\n",
    "            ax.set_title(f\"Filter {i}\", fontsize=8)\n",
    "        \n",
    "        plt.tight_layout()\n",
    "        \n",
    "        if save_path:\n",
    "            plt.savefig(f\"{save_path}_layer{layer_idx}.png\", bbox_inches='tight', dpi=150)\n",
    "            print(f\"卷积层{layer_idx}可视化结果已保存至：{save_path}_layer{layer_idx}.png\")\n",
    "        else:\n",
    "            plt.show()\n",
    "        plt.close()\n"
   ],
   "outputs": [],
   "execution_count": 4
  },
  {
   "metadata": {
    "ExecuteTime": {
     "end_time": "2025-04-19T06:58:22.986455Z",
     "start_time": "2025-04-19T06:58:22.355662Z"
    }
   },
   "cell_type": "code",
   "source": [
    "# 加载模型\n",
    "model = nn.models.Model_CNN()\n",
    "model.load_model(r'.\\saved_models\\best_model_CNNwithpoolanddropout0_2.pickle')\n",
    "\n",
    "visualize_conv_filters(model, save_path=\"./conv_filters_vis\")"
   ],
   "id": "fc97b93ac598c0cb",
   "outputs": [
    {
     "name": "stdout",
     "output_type": "stream",
     "text": [
      "卷积层0可视化结果已保存至：./conv_filters_vis_layer0.png\n",
      "卷积层2可视化结果已保存至：./conv_filters_vis_layer2.png\n"
     ]
    }
   ],
   "execution_count": 5
  },
  {
   "metadata": {
    "ExecuteTime": {
     "end_time": "2025-04-19T06:58:44.717145Z",
     "start_time": "2025-04-19T06:58:44.272588Z"
    }
   },
   "cell_type": "code",
   "source": [
    "import gzip\n",
    "import numpy as np\n",
    "from struct import unpack\n",
    "import pickle\n",
    "import mynn as nn\n",
    "\n",
    "# 固定随机种子\n",
    "np.random.seed(309)\n",
    "\n",
    "# 数据路径\n",
    "train_images_path = r'.\\dataset\\MNIST\\train-images-idx3-ubyte.gz'\n",
    "train_labels_path = r'.\\dataset\\MNIST\\train-labels-idx1-ubyte.gz'\n",
    "\n",
    "# 加载图像数据\n",
    "with gzip.open(train_images_path, 'rb') as f:\n",
    "    magic, num, rows, cols = unpack('>4I', f.read(16))\n",
    "    train_imgs = np.frombuffer(f.read(), dtype=np.uint8).reshape(num, rows, cols)  # shape (60000, 28, 28)\n",
    "    train_imgs = train_imgs[:, np.newaxis, :, :]  # 最终shape (60000, 1, 28, 28)\n",
    "\n",
    "# 加载标签数据\n",
    "with gzip.open(train_labels_path, 'rb') as f:\n",
    "    magic, num = unpack('>2I', f.read(8))\n",
    "    train_labs = np.frombuffer(f.read(), dtype=np.uint8)\n",
    "\n",
    "# 数据划分\n",
    "idx = np.random.permutation(np.arange(num))\n",
    "train_imgs = train_imgs[idx]\n",
    "train_labs = train_labs[idx]\n",
    "valid_imgs = train_imgs[:320]\n",
    "valid_labs = train_labs[:320]\n",
    "train_imgs = train_imgs[10000:]\n",
    "train_labs = train_labs[10000:]\n",
    "\n",
    "# 归一化\n",
    "train_imgs = train_imgs / 255.0  \n",
    "valid_imgs = valid_imgs / 255.0\n",
    "\n",
    "\n",
    "print(\"\\n=== CNN数据预处理验证 ===\")\n",
    "print(f\"训练集图像形状: {train_imgs.shape} (样本数, 通道数, 高, 宽)\")\n",
    "print(f\"单个样本形状: {train_imgs[0].shape}\")\n",
    "print(f\"训练集标签形状: {train_labs.shape}\")\n",
    "print(f\"验证集图像形状: {valid_imgs.shape}\")\n",
    "print(f\"像素值范围: [{train_imgs.min()}, {train_imgs.max()}]\")\n",
    "\n",
    "# 可视化第一个样本\n",
    "import matplotlib.pyplot as plt\n",
    "plt.figure(figsize=(6,3))\n",
    "plt.imshow(train_imgs[0][0], cmap='gray')  \n",
    "plt.title(f\"Label: {train_labs[0]}\")\n",
    "plt.axis('off')\n",
    "plt.show()"
   ],
   "id": "4d56721e742eb145",
   "outputs": [
    {
     "name": "stdout",
     "output_type": "stream",
     "text": [
      "\n",
      "=== CNN数据预处理验证 ===\n",
      "训练集图像形状: (50000, 1, 28, 28) (样本数, 通道数, 高, 宽)\n",
      "单个样本形状: (1, 28, 28)\n",
      "训练集标签形状: (50000,)\n",
      "验证集图像形状: (320, 1, 28, 28)\n",
      "像素值范围: [0.0, 1.0]\n"
     ]
    },
    {
     "data": {
      "text/plain": [
       "<Figure size 600x300 with 1 Axes>"
      ],
      "image/png": "[encoded data removed]"
     },
     "metadata": {},
     "output_type": "display_data"
    }
   ],
   "execution_count": 6
  },
  {
   "metadata": {
    "ExecuteTime": {
     "end_time": "2025-04-19T06:58:56.473037Z",
     "start_time": "2025-04-19T06:58:56.467006Z"
    }
   },
   "cell_type": "code",
   "source": [
    "import matplotlib.pyplot as plt\n",
    "import numpy as np\n",
    "\n",
    "def visualize_layer_output(model, sample_img, layer_indices=[0, 2]):\n",
    "  \n",
    "    if sample_img.ndim == 3:\n",
    "        sample_img = sample_img[np.newaxis, ...]\n",
    "\n",
    "    # 前向传播并记录中间层输出\n",
    "    activations = []\n",
    "    x = sample_img.copy()\n",
    "    for idx, layer in enumerate(model.layers):\n",
    "        x = layer(x)\n",
    "        if idx in layer_indices and isinstance(layer, (nn.op.conv2D, nn.op.max_pool)):\n",
    "            activations.append((idx, x))\n",
    "        if isinstance(layer, nn.op.Flatten):\n",
    "            break  \n",
    "\n",
    "    # 可视化各层激活图\n",
    "    plt.figure(figsize=(16, 10))  \n",
    "    for i, (layer_idx, feat_maps) in enumerate(activations):\n",
    "        num_feat = feat_maps.shape[1]  \n",
    "        print(f\"Layer {layer_idx} 输出形状: {feat_maps.shape}\")\n",
    "\n",
    "      \n",
    "        cols = min(8, num_feat)\n",
    "        rows = (num_feat // 8) + (1 if num_feat % 8 != 0 else 0)\n",
    "\n",
    "       \n",
    "        ax_index = i + 2  \n",
    "        plt.subplot(rows, cols, ax_index)\n",
    "\n",
    "        for j in range(min(16, num_feat)):\n",
    "            ax = plt.subplot(rows, cols, j + 1)\n",
    "            ax.imshow(feat_maps[0, j], cmap='viridis')  \n",
    "            ax.set_title(f\"Ch{j}\", fontsize=6)\n",
    "            ax.axis('off')\n",
    "\n",
    "        plt.suptitle(f\"Layer {layer_idx} Activation Maps\", y=0.8)\n",
    "\n",
    "    \n",
    "    plt.tight_layout(pad=2.0, h_pad=2.0, w_pad=2.0)  # 调整子图间的间距\n",
    "    plt.show()"
   ],
   "id": "ede9a8d1e3f67d9c",
   "outputs": [],
   "execution_count": 7
  },
  {
   "metadata": {
    "ExecuteTime": {
     "end_time": "2025-04-19T06:59:07.729607Z",
     "start_time": "2025-04-19T06:59:07.523782Z"
    }
   },
   "cell_type": "code",
   "source": [
    "# 加载模型\n",
    "model=nn.models.Model_CNN()\n",
    "model.load_model(r'.\\saved_models\\best_model_CNNwithpoolanddropout0_2.pickle')\n",
    "    \n",
    "\n",
    "sample_idx = 0\n",
    "sample_img = train_imgs[sample_idx][np.newaxis, ...]  # 添加batch维度 -> [1,1,28,28]\n",
    "sample_label = train_labs[sample_idx]\n",
    "    \n",
    "print(f\"可视化样本标签: {sample_label}\")\n",
    "    \n",
    "# 可视化第一个卷积层\n",
    "visualize_layer_output(model, sample_img, layer_indices=[0])"
   ],
   "id": "2249ead37046bf65",
   "outputs": [
    {
     "name": "stdout",
     "output_type": "stream",
     "text": [
      "可视化样本标签: 7\n",
      "Layer 0 输出形状: (1, 6, 28, 28)\n"
     ]
    },
    {
     "data": {
      "text/plain": [
       "<Figure size 1600x1000 with 6 Axes>"
      ],
      "image/png": "[encoded data removed]"
     },
     "metadata": {},
     "output_type": "display_data"
    }
   ],
   "execution_count": 8
  },
  {
   "metadata": {
    "ExecuteTime": {
     "end_time": "2025-04-19T06:59:34.049181Z",
     "start_time": "2025-04-19T06:59:33.554273Z"
    }
   },
   "cell_type": "code",
   "source": [
    "# 可视化第三个卷积层\n",
    "visualize_layer_output(model, sample_img, layer_indices=[2])"
   ],
   "id": "7b0e381e00a0852e",
   "outputs": [
    {
     "name": "stdout",
     "output_type": "stream",
     "text": [
      "Layer 2 输出形状: (1, 16, 12, 12)\n"
     ]
    },
    {
     "data": {
      "text/plain": [
       "<Figure size 1600x1000 with 16 Axes>"
      ],
      "image/png": "[encoded data removed]"
     },
     "metadata": {},
     "output_type": "display_data"
    }
   ],
   "execution_count": 9
  }
 ],
 "metadata": {
  "kernelspec": {
   "display_name": "Python 3",
   "language": "python",
   "name": "python3"
  },
  "language_info": {
   "codemirror_mode": {
    "name": "ipython",
    "version": 2
   },
   "file_extension": ".py",
   "mimetype": "text/x-python",
   "name": "python",
   "nbconvert_exporter": "python",
   "pygments_lexer": "ipython2",
   "version": "2.7.6"
  }
 },
 "nbformat": 4,
 "nbformat_minor": 5
}
